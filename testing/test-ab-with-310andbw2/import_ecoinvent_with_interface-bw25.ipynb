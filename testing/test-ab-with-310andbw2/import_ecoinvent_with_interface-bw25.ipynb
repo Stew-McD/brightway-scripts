{
 "cells": [
  {
   "cell_type": "code",
   "execution_count": 2,
   "source": [
    "from itertools import product\n",
    "import os\n",
    "use_testing_dir = 1\n",
    "\n",
    "if use_testing_dir:\n",
    "    CUSTOM_BW2_DIR = os.path.join(os.path.expanduser(\"~\"), \"brightway2data-testing\")\n",
    "    if not os.path.exists(CUSTOM_BW2_DIR):\n",
    "        os.makedirs(CUSTOM_BW2_DIR)\n",
    "    os.environ[\"BRIGHTWAY2_DIR\"] = CUSTOM_BW2_DIR\n",
    "\n",
    "import bw2data as bd\n",
    "import bw2io as bi\n",
    "import bw2calc as bc\n",
    "import ecoinvent_interface as ei\n",
    "\n",
    "DELETE_PROJECT = True\n",
    "IMPORT_RELEASES = True\n",
    "VALIDATE_DBS = True\n",
    "\n",
    "PROJECT = \"default-310\"\n",
    "VERSIONS = [\"3.10\"]\n",
    "SYSTEM_MODELS = [\"cutoff\"]  # , \"consequential\"]\n",
    "DBS = list(product(VERSIONS, SYSTEM_MODELS))\n",
    "\n",
    "settings = ei.Settings(username=ei.Settings().username, password=ei.Settings().password)\n",
    "\n",
    "if DELETE_PROJECT and PROJECT in bd.projects and len(bd.projects) > 1:\n",
    "    print(f\"Deleting project {PROJECT}\")\n",
    "    bd.projects.delete_project(PROJECT, delete_dir=True)\n",
    "\n",
    "bd.projects.set_current(PROJECT)\n",
    "\n",
    "print(f\"** Using project: {PROJECT} **\")\n",
    "print(f\"\\tbw2data version: {bd.__version__}\")\n",
    "print(f\"\\tbw2io version: {bi.__version__}\")\n",
    "print(f\"\\tbw2calc version: {bc.__version__}\")\n",
    "print(f\"\\tecoinvent_interface version: {ei.__version__}\")\n",
    "\n",
    "print(f\"** Existing databases **\")\n",
    "print(bd.databases)\n",
    "\n",
    "if IMPORT_RELEASES:\n",
    "    print(f\"** Importing releases **\")\n",
    "    # Loop through releases and system models\n",
    "    for version, system_model in DBS:\n",
    "        db_name = f\"ecoinvent-{version}-{system_model}\"\n",
    "        if db_name not in bd.databases:\n",
    "            print(f\"** Importing: {db_name}\")\n",
    "            try:\n",
    "                bi.import_ecoinvent_release(version=version, system_model=system_model)\n",
    "                print(f\"SUCCESS: {db_name}\")\n",
    "            except Exception as e:\n",
    "                print(f\"FAILURE: {db_name} - {e}\")\n",
    "                continue\n",
    "\n",
    "if VALIDATE_DBS:\n",
    "    # Check the databases\n",
    "    print(\"** Checking databases **\")\n",
    "    dbs = [x for x in bd.databases if \"biosphere\" not in x]\n",
    "    for db_name in dbs:\n",
    "        print(f\"Checking {db_name}\")\n",
    "        try:\n",
    "            db = bd.Database(db_name)\n",
    "            print(f\"\\t{db}\")\n",
    "            # logging.info(f\"{db}: \\n{bd.Database(db).metadata}\")\n",
    "            score = 0\n",
    "            attempt = 0\n",
    "            while score == 0 and attempt <= 10:\n",
    "                attempt += 1\n",
    "                lca = bc.LCA({db.random(): 1}, bd.methods.random())\n",
    "                lca.lci()\n",
    "                lca.lcia()\n",
    "                score = lca.score\n",
    "                print(f\"\\t {lca.demand}\\n\\t {lca.method} \\n\\t {lca.score:.2e}\")\n",
    "        except Exception as e:\n",
    "            print(f\"FAILURE VALIDATING: {db} : {e}\")\n",
    "        if attempt == 10:\n",
    "            print(f\"** {db_name}: produced {attempt} zero scores **\")\n",
    "            print(\"\\tProbably something is wrong here...\")\n",
    "\n",
    "print(\"Done\")"
   ],
   "outputs": [
    {
     "output_type": "stream",
     "name": "stdout",
     "text": [
      "Using environment variable BRIGHTWAY2_DIR for data directory:\n",
      "/home/stew/brightway2data-testing\n",
      "** Using project: default-310 **\n",
      "\tbw2data version: (3, 6, 6)\n",
      "\tbw2io version: (0, 8, 9)\n",
      "\tbw2calc version: (1, 8, 2)\n",
      "\tecoinvent_interface version: 2.0.1\n",
      "** Existing databases **\n",
      "Databases dictionary with 0 objects\n",
      "** Importing releases **\n",
      "** Importing: ecoinvent-3.10-cutoff\n",
      "FAILURE: ecoinvent-3.10-cutoff - module 'bw2io' has no attribute 'import_ecoinvent_release'\n",
      "** Checking databases **\n",
      "Done\n"
     ]
    }
   ],
   "metadata": {}
  },
  {
   "cell_type": "code",
   "execution_count": 1,
   "source": [
    "from itertools import product\n",
    "import os\n",
    "use_testing_dir = 1\n",
    "\n",
    "if use_testing_dir:\n",
    "    CUSTOM_BW2_DIR = os.path.join(os.path.expanduser(\"~\"), \"brightway2data-testing\")\n",
    "    if not os.path.exists(CUSTOM_BW2_DIR):\n",
    "        os.makedirs(CUSTOM_BW2_DIR)\n",
    "    os.environ[\"BRIGHTWAY2_DIR\"] = CUSTOM_BW2_DIR\n",
    "\n",
    "import bw2data as bd\n",
    "import bw2io as bi\n",
    "import bw2calc as bc\n",
    "import ecoinvent_interface as ei\n",
    "\n",
    "DELETE_PROJECT = True\n",
    "IMPORT_RELEASES = True\n",
    "VALIDATE_DBS = True\n",
    "\n",
    "PROJECT = \"default-310\"\n",
    "VERSIONS = [\"3.10\"]\n",
    "SYSTEM_MODELS = [\"cutoff\"]  # , \"consequential\"]\n",
    "DBS = list(product(VERSIONS, SYSTEM_MODELS))\n",
    "\n",
    "settings = ei.Settings(username=ei.Settings().username, password=ei.Settings().password)\n",
    "\n",
    "if DELETE_PROJECT and PROJECT in bd.projects and len(bd.projects) > 1:\n",
    "    print(f\"Deleting project {PROJECT}\")\n",
    "    bd.projects.delete_project(PROJECT, delete_dir=True)\n",
    "\n",
    "bd.projects.set_current(PROJECT)\n",
    "\n",
    "print(f\"** Using project: {PROJECT} **\")\n",
    "print(f\"\\tbw2data version: {bd.__version__}\")\n",
    "print(f\"\\tbw2io version: {bi.__version__}\")\n",
    "print(f\"\\tbw2calc version: {bc.__version__}\")\n",
    "print(f\"\\tecoinvent_interface version: {ei.__version__}\")\n",
    "\n",
    "print(f\"** Existing databases **\")\n",
    "print(bd.databases)\n",
    "\n",
    "if IMPORT_RELEASES:\n",
    "    print(f\"** Importing releases **\")\n",
    "    # Loop through releases and system models\n",
    "    for version, system_model in DBS:\n",
    "        db_name = f\"ecoinvent-{version}-{system_model}\"\n",
    "        if db_name not in bd.databases:\n",
    "            print(f\"** Importing: {db_name}\")\n",
    "            try:\n",
    "                bi.import_ecoinvent_release(version=version, system_model=system_model)\n",
    "                print(f\"SUCCESS: {db_name}\")\n",
    "            except Exception as e:\n",
    "                print(f\"FAILURE: {db_name} - {e}\")\n",
    "                continue\n",
    "\n",
    "if VALIDATE_DBS:\n",
    "    # Check the databases\n",
    "    print(\"** Checking databases **\")\n",
    "    dbs = [x for x in bd.databases if \"biosphere\" not in x]\n",
    "    for db_name in dbs:\n",
    "        print(f\"Checking {db_name}\")\n",
    "        try:\n",
    "            db = bd.Database(db_name)\n",
    "            print(f\"\\t{db}\")\n",
    "            # logging.info(f\"{db}: \\n{bd.Database(db).metadata}\")\n",
    "            score = 0\n",
    "            attempt = 0\n",
    "            while score == 0 and attempt <= 10:\n",
    "                attempt += 1\n",
    "                lca = bc.LCA({db.random(): 1}, bd.methods.random())\n",
    "                lca.lci()\n",
    "                lca.lcia()\n",
    "                score = lca.score\n",
    "                print(f\"\\t {lca.demand}\\n\\t {lca.method} \\n\\t {lca.score:.2e}\")\n",
    "        except Exception as e:\n",
    "            print(f\"FAILURE VALIDATING: {db} : {e}\")\n",
    "        if attempt == 10:\n",
    "            print(f\"** {db_name}: produced {attempt} zero scores **\")\n",
    "            print(\"\\tProbably something is wrong here...\")\n",
    "\n",
    "print(\"Done\")"
   ],
   "outputs": [
    {
     "output_type": "stream",
     "name": "stdout",
     "text": [
      "Using environment variable BRIGHTWAY2_DIR for data directory:\n",
      "/home/stew/brightway2data-testing\n",
      "Deleting project default-310\n",
      "** Using project: default-310 **\n",
      "\tbw2data version: (3, 6, 6)\n",
      "\tbw2io version: (0, 8, 11)\n",
      "\tbw2calc version: (1, 8, 2)\n",
      "\tecoinvent_interface version: 2.4.1\n",
      "** Existing databases **\n",
      "Databases dictionary with 0 objects\n",
      "** Importing releases **\n",
      "** Importing: ecoinvent-3.10-cutoff\n",
      "Applying strategy: normalize_units\n",
      "Applying strategy: drop_unspecified_subcategories\n",
      "Applying strategy: ensure_categories_are_tuples\n",
      "Applied 3 strategies in 0.00 seconds\n",
      "4362 datasets\n",
      "0 exchanges\n",
      "0 unlinked exchanges\n",
      "  \n",
      "Warning: No valid output stream.\n",
      "Title: Writing activities to SQLite3 database:\n",
      "  Started: 01/16/2024 23:43:51\n",
      "  Finished: 01/16/2024 23:43:51\n",
      "  Total time elapsed: 00:00:00\n",
      "  CPU %: 103.80\n",
      "  Memory %: 1.65\n",
      "Vacuuming database \n",
      "Created database: ecoinvent-3.10-biosphere\n",
      "Extracting XML data from 23523 datasets\n",
      "Extracted 23523 datasets in 53.53 seconds\n",
      "Applying strategy: normalize_units\n",
      "Applying strategy: update_ecoinvent_locations\n",
      "Applying strategy: remove_zero_amount_coproducts\n",
      "Applying strategy: remove_zero_amount_inputs_with_no_activity\n",
      "Applying strategy: remove_unnamed_parameters\n",
      "Applying strategy: es2_assign_only_product_with_amount_as_reference_product\n",
      "Applying strategy: assign_single_product_as_activity\n",
      "Applying strategy: create_composite_code\n",
      "Applying strategy: drop_unspecified_subcategories\n",
      "Applying strategy: fix_ecoinvent_flows_pre35\n",
      "Applying strategy: drop_temporary_outdated_biosphere_flows\n",
      "Applying strategy: link_biosphere_by_flow_uuid\n",
      "Applying strategy: link_internal_technosphere_by_composite_code\n",
      "Applying strategy: delete_exchanges_missing_activity\n",
      "Applying strategy: delete_ghost_exchanges\n",
      "Applying strategy: remove_uncertainty_from_negative_loss_exchanges\n",
      "Applying strategy: fix_unreasonably_high_lognormal_uncertainties\n",
      "Applying strategy: convert_activity_parameters_to_list\n",
      "Applying strategy: add_cpc_classification_from_single_reference_product\n",
      "Applying strategy: delete_none_synonyms\n",
      "Applying strategy: update_social_flows_in_older_consequential\n",
      "Applying strategy: set_lognormal_loc_value\n",
      "Applied 22 strategies in 6.86 seconds\n",
      "23523 datasets\n",
      "743409 exchanges\n",
      "0 unlinked exchanges\n",
      "  \n",
      "Warning: No valid output stream.\n",
      "Title: Writing activities to SQLite3 database:\n",
      "  Started: 01/16/2024 23:44:59\n",
      "  Finished: 01/16/2024 23:45:42\n",
      "  Total time elapsed: 00:00:42\n",
      "  CPU %: 99.90\n",
      "  Memory %: 25.11\n",
      "Vacuuming database \n",
      "Created database: ecoinvent-3.10-cutoff\n",
      "SUCCESS: ecoinvent-3.10-cutoff\n",
      "** Checking databases **\n",
      "Checking ecoinvent-3.10-cutoff\n",
      "\tBrightway2 SQLiteBackend: ecoinvent-3.10-cutoff\n",
      "\t {'electricity production, oil' (kilowatt hour, LU, None): 1}\n",
      "\t ('ReCiPe 2016 v1.03, endpoint (E)', 'ecosystem quality', 'ecotoxicity: freshwater') \n",
      "\t 2.20e-12\n",
      "Done\n"
     ]
    }
   ],
   "metadata": {}
  },
  {
   "cell_type": "code",
   "execution_count": 1,
   "source": [
    "from itertools import product\n",
    "import os\n",
    "use_testing_dir = 1\n",
    "\n",
    "if use_testing_dir:\n",
    "    CUSTOM_BW2_DIR = os.path.join(os.path.expanduser(\"~\"), \"brightway2data-testing\")\n",
    "    if not os.path.exists(CUSTOM_BW2_DIR):\n",
    "        os.makedirs(CUSTOM_BW2_DIR)\n",
    "    os.environ[\"BRIGHTWAY2_DIR\"] = CUSTOM_BW2_DIR\n",
    "\n",
    "import bw2data as bd\n",
    "import bw2io as bi\n",
    "import bw2calc as bc\n",
    "import ecoinvent_interface as ei\n",
    "\n",
    "DELETE_PROJECT = True\n",
    "IMPORT_RELEASES = True\n",
    "VALIDATE_DBS = True\n",
    "\n",
    "PROJECT = \"default-310\"\n",
    "VERSIONS = [\"3.10\"]\n",
    "SYSTEM_MODELS = [\"cutoff\"]  # , \"consequential\"]\n",
    "DBS = list(product(VERSIONS, SYSTEM_MODELS))\n",
    "\n",
    "settings = ei.Settings(username=ei.Settings().username, password=ei.Settings().password)\n",
    "\n",
    "if DELETE_PROJECT and PROJECT in bd.projects and len(bd.projects) > 1:\n",
    "    print(f\"Deleting project {PROJECT}\")\n",
    "    bd.projects.delete_project(PROJECT, delete_dir=True)\n",
    "\n",
    "bd.projects.set_current(PROJECT)\n",
    "\n",
    "print(f\"** Using project: {PROJECT} **\")\n",
    "print(f\"\\tbw2data version: {bd.__version__}\")\n",
    "print(f\"\\tbw2io version: {bi.__version__}\")\n",
    "print(f\"\\tbw2calc version: {bc.__version__}\")\n",
    "print(f\"\\tecoinvent_interface version: {ei.__version__}\")\n",
    "\n",
    "print(f\"** Existing databases **\")\n",
    "print(bd.databases)\n",
    "\n",
    "if IMPORT_RELEASES:\n",
    "    print(f\"** Importing releases **\")\n",
    "    # Loop through releases and system models\n",
    "    for version, system_model in DBS:\n",
    "        db_name = f\"ecoinvent-{version}-{system_model}\"\n",
    "        if db_name not in bd.databases:\n",
    "            print(f\"** Importing: {db_name}\")\n",
    "            try:\n",
    "                bi.import_ecoinvent_release(version=version, system_model=system_model)\n",
    "                print(f\"SUCCESS: {db_name}\")\n",
    "            except Exception as e:\n",
    "                print(f\"FAILURE: {db_name} - {e}\")\n",
    "                continue\n",
    "\n",
    "if VALIDATE_DBS:\n",
    "    # Check the databases\n",
    "    print(\"** Checking databases **\")\n",
    "    dbs = [x for x in bd.databases if \"biosphere\" not in x]\n",
    "    for db_name in dbs:\n",
    "        print(f\"Checking {db_name}\")\n",
    "        try:\n",
    "            db = bd.Database(db_name)\n",
    "            print(f\"\\t{db}\")\n",
    "            # logging.info(f\"{db}: \\n{bd.Database(db).metadata}\")\n",
    "            score = 0\n",
    "            attempt = 0\n",
    "            while score == 0 and attempt <= 10:\n",
    "                attempt += 1\n",
    "                lca = bc.LCA({db.random(): 1}, bd.methods.random())\n",
    "                lca.lci()\n",
    "                lca.lcia()\n",
    "                score = lca.score\n",
    "                print(f\"\\t {lca.demand}\\n\\t {lca.method} \\n\\t {lca.score:.2e}\")\n",
    "        except Exception as e:\n",
    "            print(f\"FAILURE VALIDATING: {db} : {e}\")\n",
    "        if attempt == 10:\n",
    "            print(f\"** {db_name}: produced {attempt} zero scores **\")\n",
    "            print(\"\\tProbably something is wrong here...\")\n",
    "\n",
    "print(\"Done\")"
   ],
   "outputs": [
    {
     "output_type": "stream",
     "name": "stdout",
     "text": [
      "Using environment variable BRIGHTWAY2_DIR for data directory:\n",
      "/home/stew/brightway2data-testing\n",
      "Adding a column to the projects database. A backup copy of this database '/home/stew/brightway2data-testing/projects.db' was made at '/home/stew/brightway2data-testing/projects.backup.db'; if you have problems, file an issue, and restore the backup data to use the stable version of Brightway2.\n",
      "Deleting project default-310\n"
     ]
    },
    {
     "output_type": "error",
     "ename": "AssertionError",
     "evalue": "Can't find project directory",
     "traceback": [
      "\u001b[0;31m---------------------------------------------------------------------------\u001b[0m",
      "\u001b[0;31mAssertionError\u001b[0m                            Traceback (most recent call last)",
      "File \u001b[1;32m/home/stew/code/gh/brightway-scripts/import_ecoinvent_with_interface.py:29\u001b[0m\n\u001b[1;32m     27\u001b[0m \u001b[39mif\u001b[39;00m DELETE_PROJECT \u001b[39mand\u001b[39;00m PROJECT \u001b[39min\u001b[39;00m bd\u001b[39m.\u001b[39mprojects \u001b[39mand\u001b[39;00m \u001b[39mlen\u001b[39m(bd\u001b[39m.\u001b[39mprojects) \u001b[39m>\u001b[39m \u001b[39m1\u001b[39m:\n\u001b[1;32m     28\u001b[0m     \u001b[39mprint\u001b[39m(\u001b[39mf\u001b[39m\u001b[39m\"\u001b[39m\u001b[39mDeleting project \u001b[39m\u001b[39m{\u001b[39;00mPROJECT\u001b[39m}\u001b[39;00m\u001b[39m\"\u001b[39m)\n\u001b[0;32m---> 29\u001b[0m     bd\u001b[39m.\u001b[39;49mprojects\u001b[39m.\u001b[39;49mdelete_project(PROJECT, delete_dir\u001b[39m=\u001b[39;49m\u001b[39mTrue\u001b[39;49;00m)\n\u001b[1;32m     31\u001b[0m bd\u001b[39m.\u001b[39mprojects\u001b[39m.\u001b[39mset_current(PROJECT)\n\u001b[1;32m     33\u001b[0m \u001b[39mprint\u001b[39m(\u001b[39mf\u001b[39m\u001b[39m\"\u001b[39m\u001b[39m** Using project: \u001b[39m\u001b[39m{\u001b[39;00mPROJECT\u001b[39m}\u001b[39;00m\u001b[39m **\u001b[39m\u001b[39m\"\u001b[39m)\n",
      "File \u001b[0;32m~/venvs/bw25/lib/python3.10/site-packages/bw2data/project.py:326\u001b[0m, in \u001b[0;36mProjectManager.delete_project\u001b[0;34m(self, name, delete_dir)\u001b[0m\n\u001b[1;32m    324\u001b[0m \u001b[39mif\u001b[39;00m delete_dir:\n\u001b[1;32m    325\u001b[0m     dir_path \u001b[39m=\u001b[39m \u001b[39mself\u001b[39m\u001b[39m.\u001b[39m_base_data_dir \u001b[39m/\u001b[39m safe_filename(victim)\n\u001b[0;32m--> 326\u001b[0m     \u001b[39massert\u001b[39;00m dir_path\u001b[39m.\u001b[39mis_dir(), \u001b[39m\"\u001b[39m\u001b[39mCan\u001b[39m\u001b[39m'\u001b[39m\u001b[39mt find project directory\u001b[39m\u001b[39m\"\u001b[39m\n\u001b[1;32m    327\u001b[0m     shutil\u001b[39m.\u001b[39mrmtree(dir_path)\n\u001b[1;32m    329\u001b[0m \u001b[39mif\u001b[39;00m name \u001b[39mis\u001b[39;00m \u001b[39mNone\u001b[39;00m \u001b[39mor\u001b[39;00m name \u001b[39m==\u001b[39m \u001b[39mself\u001b[39m\u001b[39m.\u001b[39mcurrent:\n",
      "\u001b[0;31mAssertionError\u001b[0m: Can't find project directory"
     ]
    }
   ],
   "metadata": {}
  },
  {
   "cell_type": "code",
   "execution_count": 2,
   "source": [
    "from itertools import product\n",
    "import os\n",
    "use_testing_dir = 1\n",
    "\n",
    "if use_testing_dir:\n",
    "    CUSTOM_BW2_DIR = os.path.join(os.path.expanduser(\"~\"), \"brightway25data-testing\")\n",
    "    if not os.path.exists(CUSTOM_BW2_DIR):\n",
    "        os.makedirs(CUSTOM_BW2_DIR)\n",
    "    os.environ[\"BRIGHTWAY2_DIR\"] = CUSTOM_BW2_DIR\n",
    "\n",
    "import bw2data as bd\n",
    "import bw2io as bi\n",
    "import bw2calc as bc\n",
    "import ecoinvent_interface as ei\n",
    "\n",
    "DELETE_PROJECT = True\n",
    "IMPORT_RELEASES = True\n",
    "VALIDATE_DBS = True\n",
    "\n",
    "PROJECT = \"default-310\"\n",
    "VERSIONS = [\"3.10\"]\n",
    "SYSTEM_MODELS = [\"cutoff\"]  # , \"consequential\"]\n",
    "DBS = list(product(VERSIONS, SYSTEM_MODELS))\n",
    "\n",
    "settings = ei.Settings(username=ei.Settings().username, password=ei.Settings().password)\n",
    "\n",
    "if DELETE_PROJECT and PROJECT in bd.projects and len(bd.projects) > 1:\n",
    "    print(f\"Deleting project {PROJECT}\")\n",
    "    bd.projects.delete_project(PROJECT, delete_dir=True)\n",
    "\n",
    "bd.projects.set_current(PROJECT)\n",
    "\n",
    "print(f\"** Using project: {PROJECT} **\")\n",
    "print(f\"\\tbw2data version: {bd.__version__}\")\n",
    "print(f\"\\tbw2io version: {bi.__version__}\")\n",
    "print(f\"\\tbw2calc version: {bc.__version__}\")\n",
    "print(f\"\\tecoinvent_interface version: {ei.__version__}\")\n",
    "\n",
    "print(f\"** Existing databases **\")\n",
    "print(bd.databases)\n",
    "\n",
    "if IMPORT_RELEASES:\n",
    "    print(f\"** Importing releases **\")\n",
    "    # Loop through releases and system models\n",
    "    for version, system_model in DBS:\n",
    "        db_name = f\"ecoinvent-{version}-{system_model}\"\n",
    "        if db_name not in bd.databases:\n",
    "            print(f\"** Importing: {db_name}\")\n",
    "            try:\n",
    "                bi.import_ecoinvent_release(version=version, system_model=system_model)\n",
    "                print(f\"SUCCESS: {db_name}\")\n",
    "            except Exception as e:\n",
    "                print(f\"FAILURE: {db_name} - {e}\")\n",
    "                continue\n",
    "\n",
    "if VALIDATE_DBS:\n",
    "    # Check the databases\n",
    "    print(\"** Checking databases **\")\n",
    "    dbs = [x for x in bd.databases if \"biosphere\" not in x]\n",
    "    for db_name in dbs:\n",
    "        print(f\"Checking {db_name}\")\n",
    "        try:\n",
    "            db = bd.Database(db_name)\n",
    "            print(f\"\\t{db}\")\n",
    "            # logging.info(f\"{db}: \\n{bd.Database(db).metadata}\")\n",
    "            score = 0\n",
    "            attempt = 0\n",
    "            while score == 0 and attempt <= 10:\n",
    "                attempt += 1\n",
    "                lca = bc.LCA({db.random(): 1}, bd.methods.random())\n",
    "                lca.lci()\n",
    "                lca.lcia()\n",
    "                score = lca.score\n",
    "                print(f\"\\t {lca.demand}\\n\\t {lca.method} \\n\\t {lca.score:.2e}\")\n",
    "        except Exception as e:\n",
    "            print(f\"FAILURE VALIDATING: {db} : {e}\")\n",
    "        if attempt == 10:\n",
    "            print(f\"** {db_name}: produced {attempt} zero scores **\")\n",
    "            print(\"\\tProbably something is wrong here...\")\n",
    "\n",
    "print(\"Done\")"
   ],
   "outputs": [
    {
     "output_type": "stream",
     "name": "stdout",
     "text": [
      "** Using project: default-310 **\n",
      "\tbw2data version: (4, 0, 'DEV33')\n",
      "\tbw2io version: (0, 9, 'DEV26')\n",
      "\tbw2calc version: 2.0.DEV16\n",
      "\tecoinvent_interface version: 2.4\n",
      "** Existing databases **\n",
      "Databases dictionary with 0 objects\n",
      "** Importing releases **\n",
      "** Importing: ecoinvent-3.10-cutoff\n",
      "Applying strategy: normalize_units\n",
      "Applying strategy: drop_unspecified_subcategories\n",
      "Applying strategy: ensure_categories_are_tuples\n",
      "Applied 3 strategies in 0.01 seconds\n",
      "4362 datasets\n",
      "0 exchanges\n",
      "0 unlinked exchanges\n",
      "  \n"
     ]
    },
    {
     "output_type": "stream",
     "name": "stderr",
     "text": [
      "100%|██████████| 4362/4362 [00:00<00:00, 11203.87it/s]\n"
     ]
    },
    {
     "output_type": "stream",
     "name": "stdout",
     "text": [
      "Vacuuming database \n",
      "Created database: ecoinvent-3.10-biosphere\n",
      "Extracting XML data from 23523 datasets\n",
      "Extracted 23523 datasets in 61.37 seconds\n",
      "Applying strategy: normalize_units\n",
      "Applying strategy: update_ecoinvent_locations\n",
      "Applying strategy: remove_zero_amount_coproducts\n",
      "Applying strategy: remove_zero_amount_inputs_with_no_activity\n",
      "Applying strategy: remove_unnamed_parameters\n",
      "Applying strategy: es2_assign_only_product_with_amount_as_reference_product\n",
      "Applying strategy: assign_single_product_as_activity\n",
      "Applying strategy: create_composite_code\n",
      "Applying strategy: drop_unspecified_subcategories\n",
      "Applying strategy: fix_ecoinvent_flows_pre35\n",
      "Applying strategy: drop_temporary_outdated_biosphere_flows\n",
      "Applying strategy: link_biosphere_by_flow_uuid\n",
      "Applying strategy: link_internal_technosphere_by_composite_code\n",
      "Applying strategy: delete_exchanges_missing_activity\n",
      "Applying strategy: delete_ghost_exchanges\n",
      "Applying strategy: remove_uncertainty_from_negative_loss_exchanges\n",
      "Applying strategy: fix_unreasonably_high_lognormal_uncertainties\n",
      "Applying strategy: convert_activity_parameters_to_list\n",
      "Applying strategy: add_cpc_classification_from_single_reference_product\n",
      "Applying strategy: delete_none_synonyms\n",
      "Applying strategy: update_social_flows_in_older_consequential\n",
      "Applying strategy: set_lognormal_loc_value\n",
      "Applied 22 strategies in 7.41 seconds\n",
      "23523 datasets\n",
      "743409 exchanges\n",
      "0 unlinked exchanges\n",
      "  \n",
      "Not able to determine geocollections for all datasets. This database is not ready for regionalization.\n"
     ]
    },
    {
     "output_type": "stream",
     "name": "stderr",
     "text": [
      "100%|██████████| 23523/23523 [00:46<00:00, 502.24it/s]\n"
     ]
    },
    {
     "output_type": "stream",
     "name": "stdout",
     "text": [
      "Vacuuming database \n",
      "Created database: ecoinvent-3.10-cutoff\n",
      "SUCCESS: ecoinvent-3.10-cutoff\n",
      "** Checking databases **\n",
      "Checking ecoinvent-3.10-cutoff\n",
      "\tBrightway2 SQLiteBackend: ecoinvent-3.10-cutoff\n",
      "\t {5054: 1}\n",
      "\t ('EF v3.0 no LT', 'photochemical oxidant formation: human health no LT', 'tropospheric ozone concentration increase no LT') \n",
      "\t 8.54e-05\n",
      "Done\n"
     ]
    }
   ],
   "metadata": {}
  },
  {
   "cell_type": "code",
   "execution_count": 3,
   "source": [
    "bw2"
   ],
   "outputs": [
    {
     "output_type": "error",
     "ename": "NameError",
     "evalue": "name 'bw2' is not defined",
     "traceback": [
      "\u001b[0;31m---------------------------------------------------------------------------\u001b[0m",
      "\u001b[0;31mNameError\u001b[0m                                 Traceback (most recent call last)",
      "Cell \u001b[0;32mIn[3], line 1\u001b[0m\n\u001b[0;32m----> 1\u001b[0m bw2\n",
      "\u001b[0;31mNameError\u001b[0m: name 'bw2' is not defined"
     ]
    }
   ],
   "metadata": {}
  },
  {
   "cell_type": "code",
   "execution_count": 4,
   "source": [
    "bd.projects"
   ],
   "outputs": [
    {
     "output_type": "execute_result",
     "data": {
      "text/plain": [
       "Brightway2 projects manager with 2 objects:\n",
       "\tdefault\n",
       "\tdefault-310\n",
       "Use `projects.report()` to get a report on all projects."
      ]
     },
     "metadata": {},
     "execution_count": 4
    }
   ],
   "metadata": {}
  },
  {
   "cell_type": "code",
   "execution_count": 5,
   "source": [
    "bd.__version__()"
   ],
   "outputs": [
    {
     "output_type": "error",
     "ename": "TypeError",
     "evalue": "'tuple' object is not callable",
     "traceback": [
      "\u001b[0;31m---------------------------------------------------------------------------\u001b[0m",
      "\u001b[0;31mTypeError\u001b[0m                                 Traceback (most recent call last)",
      "Cell \u001b[0;32mIn[5], line 1\u001b[0m\n\u001b[0;32m----> 1\u001b[0m bd\u001b[39m.\u001b[39;49m__version__()\n",
      "\u001b[0;31mTypeError\u001b[0m: 'tuple' object is not callable"
     ]
    }
   ],
   "metadata": {}
  },
  {
   "cell_type": "code",
   "execution_count": 6,
   "source": [
    "bd.__version__\n",
    ""
   ],
   "outputs": [
    {
     "output_type": "execute_result",
     "data": {
      "text/plain": [
       "(4, 0, 'DEV33')"
      ]
     },
     "metadata": {},
     "execution_count": 6
    }
   ],
   "metadata": {}
  },
  {
   "cell_type": "code",
   "execution_count": 7,
   "source": [
    "bd.projects"
   ],
   "outputs": [
    {
     "output_type": "execute_result",
     "data": {
      "text/plain": [
       "Brightway2 projects manager with 2 objects:\n",
       "\tdefault\n",
       "\tdefault-310\n",
       "Use `projects.report()` to get a report on all projects."
      ]
     },
     "metadata": {},
     "execution_count": 7
    }
   ],
   "metadata": {}
  },
  {
   "cell_type": "code",
   "execution_count": 8,
   "source": [
    "bd.projects.report()"
   ],
   "outputs": [
    {
     "output_type": "error",
     "ename": "TypeError",
     "evalue": "unsupported operand type(s) for /: 'str' and 'str'",
     "traceback": [
      "\u001b[0;31m---------------------------------------------------------------------------\u001b[0m",
      "\u001b[0;31mTypeError\u001b[0m                                 Traceback (most recent call last)",
      "Cell \u001b[0;32mIn[8], line 1\u001b[0m\n\u001b[0;32m----> 1\u001b[0m bd\u001b[39m.\u001b[39;49mprojects\u001b[39m.\u001b[39;49mreport()\n",
      "File \u001b[0;32m~/venvs/bw25/lib/python3.10/site-packages/bw2data/project.py:373\u001b[0m, in \u001b[0;36mProjectManager.report\u001b[0;34m(self)\u001b[0m\n\u001b[1;32m    371\u001b[0m \u001b[39mfor\u001b[39;00m obj \u001b[39min\u001b[39;00m names:\n\u001b[1;32m    372\u001b[0m     \u001b[39mself\u001b[39m\u001b[39m.\u001b[39mset_current(obj, update\u001b[39m=\u001b[39m\u001b[39mFalse\u001b[39;00m, writable\u001b[39m=\u001b[39m\u001b[39mFalse\u001b[39;00m)\n\u001b[0;32m--> 373\u001b[0m     data\u001b[39m.\u001b[39mappend((obj, \u001b[39mlen\u001b[39m(databases), get_dir_size(projects\u001b[39m.\u001b[39;49mdir) \u001b[39m/\u001b[39m \u001b[39m1e9\u001b[39m))\n\u001b[1;32m    374\u001b[0m \u001b[39mself\u001b[39m\u001b[39m.\u001b[39mset_current(_current)\n\u001b[1;32m    375\u001b[0m \u001b[39mreturn\u001b[39;00m data\n",
      "File \u001b[0;32m~/venvs/bw25/lib/python3.10/site-packages/bw2data/project.py:365\u001b[0m, in \u001b[0;36mProjectManager.report.<locals>.get_dir_size\u001b[0;34m(dirpath)\u001b[0m\n\u001b[1;32m    361\u001b[0m \u001b[39mdef\u001b[39;00m \u001b[39mget_dir_size\u001b[39m(dirpath):\n\u001b[1;32m    362\u001b[0m \u001b[39m    \u001b[39m\u001b[39m\"\"\"Modified from http://stackoverflow.com/questions/12480367/how-to-generate-directory-size-recursively-in-python-like-du-does.\u001b[39;00m\n\u001b[1;32m    363\u001b[0m \n\u001b[1;32m    364\u001b[0m \u001b[39m    Does not follow symbolic links\"\"\"\u001b[39;00m\n\u001b[0;32m--> 365\u001b[0m     \u001b[39mreturn\u001b[39;00m \u001b[39msum\u001b[39;49m(\n\u001b[1;32m    366\u001b[0m         \u001b[39msum\u001b[39;49m(os\u001b[39m.\u001b[39;49mpath\u001b[39m.\u001b[39;49mgetsize(root \u001b[39m/\u001b[39;49m name) \u001b[39mfor\u001b[39;49;00m name \u001b[39min\u001b[39;49;00m files)\n\u001b[1;32m    367\u001b[0m         \u001b[39mfor\u001b[39;49;00m root, dirs, files \u001b[39min\u001b[39;49;00m os\u001b[39m.\u001b[39;49mwalk(dirpath)\n\u001b[1;32m    368\u001b[0m     )\n",
      "File \u001b[0;32m~/venvs/bw25/lib/python3.10/site-packages/bw2data/project.py:366\u001b[0m, in \u001b[0;36m<genexpr>\u001b[0;34m(.0)\u001b[0m\n\u001b[1;32m    361\u001b[0m \u001b[39mdef\u001b[39;00m \u001b[39mget_dir_size\u001b[39m(dirpath):\n\u001b[1;32m    362\u001b[0m \u001b[39m    \u001b[39m\u001b[39m\"\"\"Modified from http://stackoverflow.com/questions/12480367/how-to-generate-directory-size-recursively-in-python-like-du-does.\u001b[39;00m\n\u001b[1;32m    363\u001b[0m \n\u001b[1;32m    364\u001b[0m \u001b[39m    Does not follow symbolic links\"\"\"\u001b[39;00m\n\u001b[1;32m    365\u001b[0m     \u001b[39mreturn\u001b[39;00m \u001b[39msum\u001b[39m(\n\u001b[0;32m--> 366\u001b[0m         \u001b[39msum\u001b[39;49m(os\u001b[39m.\u001b[39;49mpath\u001b[39m.\u001b[39;49mgetsize(root \u001b[39m/\u001b[39;49m name) \u001b[39mfor\u001b[39;49;00m name \u001b[39min\u001b[39;49;00m files)\n\u001b[1;32m    367\u001b[0m         \u001b[39mfor\u001b[39;00m root, dirs, files \u001b[39min\u001b[39;00m os\u001b[39m.\u001b[39mwalk(dirpath)\n\u001b[1;32m    368\u001b[0m     )\n",
      "File \u001b[0;32m~/venvs/bw25/lib/python3.10/site-packages/bw2data/project.py:366\u001b[0m, in \u001b[0;36m<genexpr>\u001b[0;34m(.0)\u001b[0m\n\u001b[1;32m    361\u001b[0m \u001b[39mdef\u001b[39;00m \u001b[39mget_dir_size\u001b[39m(dirpath):\n\u001b[1;32m    362\u001b[0m \u001b[39m    \u001b[39m\u001b[39m\"\"\"Modified from http://stackoverflow.com/questions/12480367/how-to-generate-directory-size-recursively-in-python-like-du-does.\u001b[39;00m\n\u001b[1;32m    363\u001b[0m \n\u001b[1;32m    364\u001b[0m \u001b[39m    Does not follow symbolic links\"\"\"\u001b[39;00m\n\u001b[1;32m    365\u001b[0m     \u001b[39mreturn\u001b[39;00m \u001b[39msum\u001b[39m(\n\u001b[0;32m--> 366\u001b[0m         \u001b[39msum\u001b[39m(os\u001b[39m.\u001b[39mpath\u001b[39m.\u001b[39mgetsize(root \u001b[39m/\u001b[39;49m name) \u001b[39mfor\u001b[39;00m name \u001b[39min\u001b[39;00m files)\n\u001b[1;32m    367\u001b[0m         \u001b[39mfor\u001b[39;00m root, dirs, files \u001b[39min\u001b[39;00m os\u001b[39m.\u001b[39mwalk(dirpath)\n\u001b[1;32m    368\u001b[0m     )\n",
      "\u001b[0;31mTypeError\u001b[0m: unsupported operand type(s) for /: 'str' and 'str'"
     ]
    }
   ],
   "metadata": {}
  },
  {
   "cell_type": "code",
   "execution_count": 9,
   "source": [
    "bd.projects.current"
   ],
   "outputs": [
    {
     "output_type": "execute_result",
     "data": {
      "text/plain": [
       "'default'"
      ]
     },
     "metadata": {},
     "execution_count": 9
    }
   ],
   "metadata": {}
  },
  {
   "cell_type": "code",
   "execution_count": 10,
   "source": [
    "bd.projects.set_current('default-310')"
   ],
   "outputs": [],
   "metadata": {}
  },
  {
   "cell_type": "code",
   "execution_count": 11,
   "source": [
    "bd.databases"
   ],
   "outputs": [
    {
     "output_type": "execute_result",
     "data": {
      "text/plain": [
       "Databases dictionary with 2 object(s):\n",
       "\tecoinvent-3.10-biosphere\n",
       "\tecoinvent-3.10-cutoff"
      ]
     },
     "metadata": {},
     "execution_count": 11
    }
   ],
   "metadata": {}
  },
  {
   "cell_type": "code",
   "execution_count": 12,
   "source": [
    "for db in bd.databases:\n",
    "    print(db.metadata)"
   ],
   "outputs": [
    {
     "output_type": "error",
     "ename": "AttributeError",
     "evalue": "'str' object has no attribute 'metadata'",
     "traceback": [
      "\u001b[0;31m---------------------------------------------------------------------------\u001b[0m",
      "\u001b[0;31mAttributeError\u001b[0m                            Traceback (most recent call last)",
      "Cell \u001b[0;32mIn[12], line 2\u001b[0m\n\u001b[1;32m      1\u001b[0m \u001b[39mfor\u001b[39;00m db \u001b[39min\u001b[39;00m bd\u001b[39m.\u001b[39mdatabases:\n\u001b[0;32m----> 2\u001b[0m     \u001b[39mprint\u001b[39m(db\u001b[39m.\u001b[39;49mmetadata)\n",
      "\u001b[0;31mAttributeError\u001b[0m: 'str' object has no attribute 'metadata'"
     ]
    }
   ],
   "metadata": {}
  },
  {
   "cell_type": "code",
   "execution_count": 13,
   "source": [
    "for db in bd.databases:\n",
    "    print(db.metadata)"
   ],
   "outputs": [
    {
     "output_type": "error",
     "ename": "AttributeError",
     "evalue": "'str' object has no attribute 'metadata'",
     "traceback": [
      "\u001b[0;31m---------------------------------------------------------------------------\u001b[0m",
      "\u001b[0;31mAttributeError\u001b[0m                            Traceback (most recent call last)",
      "Cell \u001b[0;32mIn[13], line 2\u001b[0m\n\u001b[1;32m      1\u001b[0m \u001b[39mfor\u001b[39;00m db \u001b[39min\u001b[39;00m bd\u001b[39m.\u001b[39mdatabases:\n\u001b[0;32m----> 2\u001b[0m     \u001b[39mprint\u001b[39m(db\u001b[39m.\u001b[39;49mmetadata)\n",
      "\u001b[0;31mAttributeError\u001b[0m: 'str' object has no attribute 'metadata'"
     ]
    }
   ],
   "metadata": {}
  },
  {
   "cell_type": "code",
   "execution_count": 14,
   "source": [
    "for DB in bd.databases:\n",
    "    db = bd.Database(DB)\n",
    "    print(db.metadata)"
   ],
   "outputs": [
    {
     "output_type": "stream",
     "name": "stdout",
     "text": [
      "{'overwrite': False, 'format': 'Ecoinvent XML', 'depends': [], 'backend': 'sqlite', 'number': 4362, 'modified': '2024-01-17T00:05:45.165781', 'geocollections': [], 'processed': '2024-01-17T00:05:56.497441', 'dirty': False, 'searchable': True}\n",
      "{'overwrite': False, 'format': 'Ecoinvent XML', 'depends': ['ecoinvent-3.10-biosphere'], 'backend': 'sqlite', 'number': 23523, 'modified': '2024-01-17T00:07:05.802283', 'geocollections': ['world'], 'processed': '2024-01-17T00:09:37.230083', 'dirty': False, 'searchable': True}\n"
     ]
    }
   ],
   "metadata": {}
  }
 ],
 "nbformat": 4,
 "nbformat_minor": 2,
 "metadata": {
  "language_info": {
   "codemirror_mode": {
    "name": "ipython",
    "version": 3
   },
   "file_extension": ".py",
   "mimetype": "text/x-python",
   "name": "python",
   "nbconvert_exporter": "python",
   "pygments_lexer": "ipython3",
   "version": 3
  }
 }
}