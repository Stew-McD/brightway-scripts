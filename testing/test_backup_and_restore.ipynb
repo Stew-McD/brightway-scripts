{
 "cells": [
  {
   "cell_type": "code",
   "execution_count": 1,
   "source": [
    "import os\n",
    "# I use a custom dir to keep bw2 and bw25 separate\n",
    "\n",
    "os.environ[\"BRIGHTWAY2_DIR\"] = os.environ.get(\"HOME\") + \"/brightway25data\"\n",
    "import bw2io as bi\n",
    "import bw2data as bd\n",
    "PROJECT_NAME = \"LCA-psychotropics\"\n",
    "EI_VERSION = \"3.10\"\n",
    "SYSTEM_MODELS = [\"cutoff\", \"consequential\"]\n",
    "# if not already stored in ecoinvent_interface.settings()you need to provide them here\n",
    "\n",
    "USERNAME = None\n",
    "PASSWORD = None"
   ],
   "outputs": [
    {
     "output_type": "stream",
     "name": "stdout",
     "text": [
      "Using environment variable BRIGHTWAY2_DIR for data directory:\n",
      "/home/stew/brightway25data\n"
     ]
    }
   ],
   "metadata": {}
  },
  {
   "cell_type": "code",
   "execution_count": 2,
   "source": [
    "bd.projects.set_current(\"LCA-psychotropics\")\n",
    "print(f\"\\n{'/'*20} Importing ecoinvent {'/'*20} \\n\")\n",
    "for system_model in SYSTEM_MODELS:\n",
    "    print(f\"\\t ** Importing {system_model} system model\")\n",
    "    try:\n",
    "        bi.import_ecoinvent_release(\n",
    "            version=EI_VERSION,\n",
    "            system_model=system_model,\n",
    "            username=USERNAME,\n",
    "            password=PASSWORD,\n",
    "        )\n",
    "        print(f\"\\t ** Imported: {EI_VERSION} - {system_model}\")\n",
    "    except Exception as e:\n",
    "        print(f\"\\t ## Error importing {EI_VERSION} - {system_model}\")\n",
    "        print(f'\\t\\t{e}')\n",
    "\n",
    "print(f\"{'-'*20} Finished importing {'-'*20} \")"
   ],
   "outputs": [
    {
     "output_type": "stream",
     "name": "stdout",
     "text": [
      "\n",
      "//////////////////// Importing ecoinvent //////////////////// \n",
      "\n",
      "\t ** Importing cutoff system model\n",
      "\t ## Error importing 3.10 - cutoff\n",
      "\t\tDatabase ecoinvent-3.10-cutoff already exists\n",
      "\t ** Importing consequential system model\n",
      "\t ## Error importing 3.10 - consequential\n",
      "\t\tDatabase ecoinvent-3.10-consequential already exists\n",
      "-------------------- Finished importing -------------------- \n"
     ]
    }
   ],
   "metadata": {}
  },
  {
   "cell_type": "code",
   "execution_count": 3,
   "source": [
    "print(f\"{'/'*20} Backing up {'/'*20} \")\n",
    "DIR_BACKUP = os.path.join(os.path.dirname(os.getcwd()),\".backup\")\n",
    "bi.backup_data_directory(timestamp=False, dir_backup=DIR_BACKUP)\n",
    "fp = bi.backup_project_directory(PROJECT_NAME, timestamp=False, dir_backup=DIR_BACKUP)\n",
    "bi.restore_project_directory(fp, project_name=PROJECT_NAME+\"_restore\", overwrite_existing=True)\n",
    "print(*bd.projects.report(), sep=\"\\n\")\n",
    "project_dict = {t[0]: t[2] for t in bd.projects.report()}\n",
    "if project_dict[PROJECT_NAME+\"_restore\"] == project_dict[PROJECT_NAME]:\n",
    "    print(\"Project and restored project are the same size\")\n",
    "\n",
    "print(f\"{'-'*20} Finished backing up{'-'*20} \")\n",
    "print(f\"{'/'*20} FINISHED {'/'*20} \")"
   ],
   "outputs": [
    {
     "output_type": "stream",
     "name": "stdout",
     "text": [
      "//////////////////// Backing up //////////////////// \n",
      "Creating backup archive - this could take a few minutes...\n",
      "Saved to: /home/stew/code/gh/LCA-psychotropics/.backup/brightway2-data-backup.tar.gz\n",
      "Creating project backup archive - this could take a few minutes...\n",
      "Saved to: /home/stew/code/gh/LCA-psychotropics/.backup/brightway2-project-LCA-psychotropics-backup.tar.gz\n",
      "Restoring project backup archive - this could take a few minutes...\n",
      "Restored project: LCA-psychotropics_restore\n",
      "('LCA-psychotropics', 3, 2.845408609)\n",
      "('LCA-psychotropics_restore', 3, 2.845408609)\n",
      "('default', 3, 2.801426639)\n",
      "Project and restored project are the same size\n",
      "-------------------- Finished backing up-------------------- \n",
      "//////////////////// FINISHED //////////////////// \n"
     ]
    }
   ],
   "metadata": {}
  }
 ],
 "nbformat": 4,
 "nbformat_minor": 2,
 "metadata": {
  "language_info": {
   "codemirror_mode": {
    "name": "ipython",
    "version": 3
   },
   "file_extension": ".py",
   "mimetype": "text/x-python",
   "name": "python",
   "nbconvert_exporter": "python",
   "pygments_lexer": "ipython3",
   "version": 3
  }
 }
}